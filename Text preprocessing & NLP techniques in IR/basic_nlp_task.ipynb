{
 "cells": [
  {
   "cell_type": "code",
   "execution_count": 1,
   "id": "4bdeb211",
   "metadata": {},
   "outputs": [],
   "source": [
    "import re\n",
    "from nltk.corpus import stopwords\n",
    "stop_words = set(stopwords.words('english'))"
   ]
  },
  {
   "cell_type": "code",
   "execution_count": 2,
   "id": "c9b48a14",
   "metadata": {},
   "outputs": [],
   "source": [
    "import nltk"
   ]
  },
  {
   "cell_type": "code",
   "execution_count": 3,
   "id": "ac04bcd3",
   "metadata": {},
   "outputs": [],
   "source": [
    "text = \"\"\"A software application that interacts with its surroundings, makes choices, and acts to accomplish predetermined objectives is called an agent. These agents are made to be autonomous, which means they can carry out duties without direct human assistance.\"\"\"\n",
    "\n",
    "stop_words = set(stopwords.words('english'))\n",
    "tokens = re.findall(r'\\b\\w+\\b', text.lower())\n",
    "tokens = [t for t in tokens if t not in stop_words and len(t) > 2]\n"
   ]
  },
  {
   "cell_type": "code",
   "execution_count": 4,
   "id": "97f71bc2",
   "metadata": {},
   "outputs": [
    {
     "data": {
      "text/plain": [
       "['software',\n",
       " 'application',\n",
       " 'interacts',\n",
       " 'surroundings',\n",
       " 'makes',\n",
       " 'choices',\n",
       " 'acts',\n",
       " 'accomplish',\n",
       " 'predetermined',\n",
       " 'objectives',\n",
       " 'called',\n",
       " 'agent',\n",
       " 'agents',\n",
       " 'made',\n",
       " 'autonomous',\n",
       " 'means',\n",
       " 'carry',\n",
       " 'duties',\n",
       " 'without',\n",
       " 'direct',\n",
       " 'human',\n",
       " 'assistance']"
      ]
     },
     "execution_count": 4,
     "metadata": {},
     "output_type": "execute_result"
    }
   ],
   "source": [
    "tokens"
   ]
  },
  {
   "cell_type": "markdown",
   "id": "c66abb46-1d64-4bfd-a4d9-1acc208c7c9a",
   "metadata": {},
   "source": [
    "# POS Tagging"
   ]
  },
  {
   "cell_type": "code",
   "execution_count": 5,
   "id": "6a374a8b",
   "metadata": {},
   "outputs": [
    {
     "data": {
      "text/plain": [
       "[('software', 'NN'),\n",
       " ('application', 'NN'),\n",
       " ('interacts', 'VBZ'),\n",
       " ('surroundings', 'NNS'),\n",
       " ('makes', 'VBZ'),\n",
       " ('choices', 'NNS'),\n",
       " ('acts', 'NNS'),\n",
       " ('accomplish', 'JJ'),\n",
       " ('predetermined', 'VBD'),\n",
       " ('objectives', 'NNS'),\n",
       " ('called', 'VBN'),\n",
       " ('agent', 'NN'),\n",
       " ('agents', 'NNS'),\n",
       " ('made', 'VBN'),\n",
       " ('autonomous', 'JJ'),\n",
       " ('means', 'NNS'),\n",
       " ('carry', 'VBP'),\n",
       " ('duties', 'NNS'),\n",
       " ('without', 'IN'),\n",
       " ('direct', 'JJ'),\n",
       " ('human', 'JJ'),\n",
       " ('assistance', 'NN')]"
      ]
     },
     "execution_count": 5,
     "metadata": {},
     "output_type": "execute_result"
    }
   ],
   "source": [
    "from nltk import pos_tag\n",
    "pos_tag(tokens)"
   ]
  },
  {
   "cell_type": "code",
   "execution_count": 6,
   "id": "b1e6f13c",
   "metadata": {},
   "outputs": [
    {
     "name": "stdout",
     "output_type": "stream",
     "text": [
      "[('the', 'DT'), ('cat', 'NN'), ('sat', 'VB'), ('on', 'IN'), ('the', 'DT'), ('mat', 'NN')]\n"
     ]
    }
   ],
   "source": [
    "def simple_pos_tag(tokens):\n",
    "    pos_dict = {\n",
    "        'NN': ['cat', 'dog', 'mat', 'log', 'friends'],\n",
    "        'VB': ['sat'],\n",
    "        'DT': ['the'],\n",
    "        'IN': ['on'],\n",
    "        'CC': ['and'],\n",
    "        'JJ': ['good']\n",
    "    }\n",
    "    tagged = []\n",
    "    for word in tokens:\n",
    "        tag = next((pos for pos, words in pos_dict.items() if word in words), 'NN')\n",
    "        tagged.append((word, tag))\n",
    "    return tagged\n",
    "\n",
    "text = \"the cat sat on the mat\"\n",
    "tokens = re.findall(r'\\b\\w+\\b', text.lower())\n",
    "print(simple_pos_tag(tokens))"
   ]
  },
  {
   "cell_type": "markdown",
   "id": "5da6b9a8-3cd2-4ec1-9325-c8e0ea45ddc0",
   "metadata": {},
   "source": [
    "# Shallow Parsing (Chunking)"
   ]
  },
  {
   "cell_type": "code",
   "execution_count": 1,
   "id": "b89f10d5",
   "metadata": {},
   "outputs": [
    {
     "ename": "NameError",
     "evalue": "name 're' is not defined",
     "output_type": "error",
     "traceback": [
      "\u001b[1;31m---------------------------------------------------------------------------\u001b[0m",
      "\u001b[1;31mNameError\u001b[0m                                 Traceback (most recent call last)",
      "Cell \u001b[1;32mIn[1], line 5\u001b[0m\n\u001b[0;32m      2\u001b[0m \u001b[38;5;28;01mfrom\u001b[39;00m \u001b[38;5;21;01mnltk\u001b[39;00m\u001b[38;5;21;01m.\u001b[39;00m\u001b[38;5;21;01mchunk\u001b[39;00m \u001b[38;5;28;01mimport\u001b[39;00m RegexpParser\n\u001b[0;32m      4\u001b[0m text \u001b[38;5;241m=\u001b[39m \u001b[38;5;124m\"\u001b[39m\u001b[38;5;124mThe quick brown fox jumps over the lazy dog\u001b[39m\u001b[38;5;124m\"\u001b[39m\n\u001b[1;32m----> 5\u001b[0m tokens \u001b[38;5;241m=\u001b[39m \u001b[43mre\u001b[49m\u001b[38;5;241m.\u001b[39mfindall(\u001b[38;5;124mr\u001b[39m\u001b[38;5;124m'\u001b[39m\u001b[38;5;124m\\\u001b[39m\u001b[38;5;124mb\u001b[39m\u001b[38;5;124m\\\u001b[39m\u001b[38;5;124mw+\u001b[39m\u001b[38;5;124m\\\u001b[39m\u001b[38;5;124mb\u001b[39m\u001b[38;5;124m'\u001b[39m, text\u001b[38;5;241m.\u001b[39mlower())\n\u001b[0;32m      6\u001b[0m pattern \u001b[38;5;241m=\u001b[39m \u001b[38;5;124m\"\u001b[39m\u001b[38;5;124mNP: \u001b[39m\u001b[38;5;124m{\u001b[39m\u001b[38;5;124m<DT>?<JJ>*<NN>}\u001b[39m\u001b[38;5;124m\"\u001b[39m\n\u001b[0;32m      7\u001b[0m chunker \u001b[38;5;241m=\u001b[39m RegexpParser(pattern)\n",
      "\u001b[1;31mNameError\u001b[0m: name 're' is not defined"
     ]
    }
   ],
   "source": [
    "from nltk import pos_tag\n",
    "from nltk.chunk import RegexpParser\n",
    "\n",
    "text = \"The quick brown fox jumps over the lazy dog\"\n",
    "tokens = re.findall(r'\\b\\w+\\b', text.lower())\n",
    "pattern = \"NP: {<DT>?<JJ>*<NN>}\"\n",
    "chunker = RegexpParser(pattern)\n",
    "tree = chunker.parse(pos_tag(tokens))\n",
    "tree.draw()"
   ]
  },
  {
   "cell_type": "code",
   "execution_count": null,
   "id": "dda7a29b",
   "metadata": {},
   "outputs": [],
   "source": []
  }
 ],
 "metadata": {
  "kernelspec": {
   "display_name": "Python 3 (ipykernel)",
   "language": "python",
   "name": "python3"
  },
  "language_info": {
   "codemirror_mode": {
    "name": "ipython",
    "version": 3
   },
   "file_extension": ".py",
   "mimetype": "text/x-python",
   "name": "python",
   "nbconvert_exporter": "python",
   "pygments_lexer": "ipython3",
   "version": "3.10.5"
  }
 },
 "nbformat": 4,
 "nbformat_minor": 5
}
