{
 "cells": [
  {
   "cell_type": "code",
   "execution_count": 10,
   "id": "369d650b",
   "metadata": {},
   "outputs": [],
   "source": [
    "import os\n",
    "import re\n",
    "from collections import defaultdict\n",
    "from nltk.corpus import stopwords\n",
    "from nltk.stem import PorterStemmer\n"
   ]
  },
  {
   "cell_type": "markdown",
   "id": "1d578453",
   "metadata": {},
   "source": [
    "#### Inverted Index"
   ]
  },
  {
   "cell_type": "code",
   "execution_count": 11,
   "id": "a7ced30d",
   "metadata": {},
   "outputs": [],
   "source": [
    "documents = {\n",
    "    1: \"The quick brown fox quick jumps over the lazy dog.\",\n",
    "    2: \"Never jump over the lazy dog quickly.\",\n",
    "    3: \"Foxes are quick and they love jumping.\"\n",
    "}\n"
   ]
  },
  {
   "cell_type": "code",
   "execution_count": 12,
   "id": "6a57a6f9",
   "metadata": {},
   "outputs": [],
   "source": [
    "stop_words = set(stopwords.words('english'))\n",
    "stemmer = PorterStemmer()\n",
    "\n",
    "# Preprocessing: tokenization + stopword removal + stemming\n",
    "def preprocess(text):\n",
    "    tokens = re.findall(r'\\b\\w+\\b', text.lower())  # tokenize + lowercase\n",
    "    tokens = [word for word in tokens if word not in stop_words]  # remove stopwords\n",
    "    stems = [stemmer.stem(word) for word in tokens]  # stemming\n",
    "    return stems\n"
   ]
  },
  {
   "cell_type": "code",
   "execution_count": 13,
   "id": "4a96027a",
   "metadata": {},
   "outputs": [
    {
     "name": "stdout",
     "output_type": "stream",
     "text": [
      "brown: [1]\n",
      "dog: [1, 2]\n",
      "fox: [1, 3]\n",
      "jump: [1, 2, 3]\n",
      "lazi: [1, 2]\n",
      "love: [3]\n",
      "never: [2]\n",
      "quick: [1, 3]\n",
      "quickli: [2]\n"
     ]
    }
   ],
   "source": [
    "# Inverted index: term -> set of doc IDs\n",
    "inverted_index = defaultdict(set)\n",
    "\n",
    "for doc_id, text in documents.items():\n",
    "    terms = preprocess(text)\n",
    "    for term in terms:\n",
    "        inverted_index[term].add(doc_id)\n",
    "\n",
    "for term in sorted(inverted_index):\n",
    "    print(f\"{term}: {sorted(inverted_index[term])}\")\n"
   ]
  },
  {
   "cell_type": "markdown",
   "id": "756bb01b",
   "metadata": {},
   "source": [
    "#### Posistional Inverted Index"
   ]
  },
  {
   "cell_type": "code",
   "execution_count": 15,
   "id": "9663bf86",
   "metadata": {},
   "outputs": [
    {
     "name": "stdout",
     "output_type": "stream",
     "text": [
      "brown:\n",
      "  Doc 1: Positions [1]\n",
      "dog:\n",
      "  Doc 1: Positions [6]\n",
      "  Doc 2: Positions [3]\n",
      "fox:\n",
      "  Doc 1: Positions [2]\n",
      "  Doc 3: Positions [0]\n",
      "jump:\n",
      "  Doc 1: Positions [4]\n",
      "  Doc 2: Positions [1]\n",
      "  Doc 3: Positions [3]\n",
      "lazi:\n",
      "  Doc 1: Positions [5]\n",
      "  Doc 2: Positions [2]\n",
      "love:\n",
      "  Doc 3: Positions [2]\n",
      "never:\n",
      "  Doc 2: Positions [0]\n",
      "quick:\n",
      "  Doc 1: Positions [0, 3]\n",
      "  Doc 3: Positions [1]\n",
      "quickli:\n",
      "  Doc 2: Positions [4]\n"
     ]
    }
   ],
   "source": [
    "positional_index = defaultdict(lambda: defaultdict(list))\n",
    "\n",
    "for doc_id, text in documents.items():\n",
    "    terms = preprocess(text)\n",
    "    for pos, term in enumerate(terms):\n",
    "        positional_index[term][doc_id].append(pos)\n",
    "\n",
    "for term in sorted(positional_index):\n",
    "    print(f\"{term}:\")\n",
    "    for doc_id, positions in positional_index[term].items():\n",
    "        print(f\"  Doc {doc_id}: Positions {positions}\")"
   ]
  },
  {
   "cell_type": "code",
   "execution_count": null,
   "id": "cf07c0f0",
   "metadata": {},
   "outputs": [],
   "source": []
  }
 ],
 "metadata": {
  "kernelspec": {
   "display_name": ".venv",
   "language": "python",
   "name": "python3"
  },
  "language_info": {
   "codemirror_mode": {
    "name": "ipython",
    "version": 3
   },
   "file_extension": ".py",
   "mimetype": "text/x-python",
   "name": "python",
   "nbconvert_exporter": "python",
   "pygments_lexer": "ipython3",
   "version": "3.10.10"
  }
 },
 "nbformat": 4,
 "nbformat_minor": 5
}
