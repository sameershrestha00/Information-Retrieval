{
 "cells": [
  {
   "cell_type": "code",
   "execution_count": null,
   "id": "4bdeb211",
   "metadata": {},
   "outputs": [],
   "source": [
    "import re\n",
    "from nltk.corpus import stopwords\n",
    "stop_words = set(stopwords.words('english'))"
   ]
  },
  {
   "cell_type": "code",
   "execution_count": null,
   "id": "c9b48a14",
   "metadata": {},
   "outputs": [
    {
     "name": "stderr",
     "output_type": "stream",
     "text": [
      "[nltk_data] Downloading package punkt to C:\\Users\\FM-PC-\n",
      "[nltk_data]     LT-275\\AppData\\Roaming\\nltk_data...\n",
      "[nltk_data]   Package punkt is already up-to-date!\n",
      "[nltk_data] Downloading package stopwords to C:\\Users\\FM-PC-\n",
      "[nltk_data]     LT-275\\AppData\\Roaming\\nltk_data...\n",
      "[nltk_data]   Package stopwords is already up-to-date!\n",
      "[nltk_data] Downloading package wordnet to C:\\Users\\FM-PC-\n",
      "[nltk_data]     LT-275\\AppData\\Roaming\\nltk_data...\n",
      "[nltk_data]   Package wordnet is already up-to-date!\n",
      "[nltk_data] Downloading package averaged_perceptron_tagger_eng to\n",
      "[nltk_data]     C:\\Users\\FM-PC-LT-275\\AppData\\Roaming\\nltk_data...\n",
      "[nltk_data]   Unzipping taggers\\averaged_perceptron_tagger_eng.zip.\n"
     ]
    },
    {
     "data": {
      "text/plain": [
       "True"
      ]
     },
     "execution_count": 17,
     "metadata": {},
     "output_type": "execute_result"
    }
   ],
   "source": [
    "import nltk\n",
    "nltk.download('punkt')\n",
    "nltk.download('stopwords')\n",
    "nltk.download('wordnet')\n",
    "nltk.download('averaged_perceptron_tagger_eng')  # <-- Add this\n"
   ]
  },
  {
   "cell_type": "code",
   "execution_count": null,
   "id": "ac04bcd3",
   "metadata": {},
   "outputs": [],
   "source": [
    "text = \"\"\"A software application that interacts with its surroundings, makes choices, and acts to accomplish predetermined objectives is called an agent. These agents are made to be autonomous, which means they can carry out duties without direct human assistance.\"\"\"\n",
    "\n",
    "stop_words = set(stopwords.words('english'))\n",
    "tokens = re.findall(r'\\b\\w+\\b', text.lower())\n",
    "tokens = [t for t in tokens if t not in stop_words and len(t) > 2]\n"
   ]
  },
  {
   "cell_type": "code",
   "execution_count": null,
   "id": "97f71bc2",
   "metadata": {},
   "outputs": [
    {
     "data": {
      "text/plain": [
       "['agent',\n",
       " 'software',\n",
       " 'program',\n",
       " 'interacts',\n",
       " 'environment',\n",
       " 'makes',\n",
       " 'decisions',\n",
       " 'takes',\n",
       " 'actions',\n",
       " 'achieve',\n",
       " 'specific',\n",
       " 'goals',\n",
       " 'agents',\n",
       " 'designed',\n",
       " 'autonomous',\n",
       " 'meaning',\n",
       " 'operate',\n",
       " 'independently',\n",
       " 'perform',\n",
       " 'tasks',\n",
       " 'without',\n",
       " 'direct',\n",
       " 'human',\n",
       " 'intervention']"
      ]
     },
     "execution_count": 8,
     "metadata": {},
     "output_type": "execute_result"
    }
   ],
   "source": [
    "tokens"
   ]
  },
  {
   "cell_type": "code",
   "execution_count": null,
   "id": "6a374a8b",
   "metadata": {},
   "outputs": [],
   "source": [
    "#POS Tagging\n",
    "from nltk import pos_tag\n",
    "pos_tag(tokens)"
   ]
  },
  {
   "cell_type": "code",
   "execution_count": null,
   "id": "b1e6f13c",
   "metadata": {},
   "outputs": [
    {
     "name": "stdout",
     "output_type": "stream",
     "text": [
      "[('the', 'DT'), ('cat', 'NN'), ('sat', 'VB'), ('on', 'IN'), ('the', 'DT'), ('mat', 'NN')]\n"
     ]
    }
   ],
   "source": [
    "# have our own pos dict\n",
    "\n",
    "def simple_pos_tag(tokens):\n",
    "    pos_dict = {\n",
    "        'NN': ['cat', 'dog', 'mat', 'log', 'friends'],\n",
    "        'VB': ['sat'],\n",
    "        'DT': ['the'],\n",
    "        'IN': ['on'],\n",
    "        'CC': ['and'],\n",
    "        'JJ': ['good']\n",
    "    }\n",
    "    tagged = []\n",
    "    for word in tokens:\n",
    "        tag = next((pos for pos, words in pos_dict.items() if word in words), 'NN')\n",
    "        tagged.append((word, tag))\n",
    "    return tagged\n",
    "\n",
    "text = \"the cat sat on the mat\"\n",
    "tokens = re.findall(r'\\b\\w+\\b', text.lower())\n",
    "print(simple_pos_tag(tokens))"
   ]
  },
  {
   "cell_type": "code",
   "execution_count": null,
   "id": "e58cd6c8",
   "metadata": {},
   "outputs": [],
   "source": [
    "# Shallow Parsing (Chunking)"
   ]
  },
  {
   "cell_type": "code",
   "execution_count": null,
   "id": "b89f10d5",
   "metadata": {},
   "outputs": [],
   "source": [
    "from nltk import pos_tag\n",
    "from nltk.chunk import RegexpParser\n",
    "\n",
    "text = \"The quick brown fox jumps over the lazy dog\"\n",
    "tokens = re.findall(r'\\b\\w+\\b', text.lower())\n",
    "pattern = \"NP: {<DT>?<JJ>*<NN>}\"\n",
    "chunker = RegexpParser(pattern)\n",
    "tree = chunker.parse(pos_tag(tokens))\n",
    "tree.draw()"
   ]
  },
  {
   "cell_type": "code",
   "execution_count": null,
   "id": "dda7a29b",
   "metadata": {},
   "outputs": [],
   "source": []
  }
 ],
 "metadata": {
  "kernelspec": {
   "display_name": ".venv",
   "language": "python",
   "name": "python3"
  },
  "language_info": {
   "codemirror_mode": {
    "name": "ipython",
    "version": 3
   },
   "file_extension": ".py",
   "mimetype": "text/x-python",
   "name": "python",
   "nbconvert_exporter": "python",
   "pygments_lexer": "ipython3",
   "version": "3.10.10"
  }
 },
 "nbformat": 4,
 "nbformat_minor": 5
}
