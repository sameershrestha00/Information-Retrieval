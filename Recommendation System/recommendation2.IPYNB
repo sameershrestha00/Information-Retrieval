{
 "cells": [
  {
   "cell_type": "code",
   "execution_count": 16,
   "id": "171b269e",
   "metadata": {},
   "outputs": [
    {
     "name": "stdout",
     "output_type": "stream",
     "text": [
      "\n",
      "Collaborative Filtering Movie Recommendations for User Alice:\n",
      "['Interstellar']\n"
     ]
    }
   ],
   "source": [
    "import pandas as pd\n",
    "from sklearn.metrics.pairwise import cosine_similarity\n",
    "import numpy as np\n",
    "\n",
    "# Sample user-movie rating matrix\n",
    "ratings = pd.DataFrame({\n",
    "    'User': ['Alice','Alice','Alice','Bob','Bob','Bob','Charlie','Charlie','Charlie','Diana','Diana'],\n",
    "    'Movie': ['Avatar','Inception','Titanic','Avatar','Inception','Interstellar','Inception','Titanic','Interstellar','Avatar','Interstellar'],\n",
    "    'Rating': [4, 5, 3, 5, 4, 4, 3, 5, 4, 4, 5]\n",
    "})\n",
    "\n",
    "# Create user-item matrix\n",
    "user_item_matrix = ratings.pivot(index='User', columns='Movie', values='Rating').fillna(0)\n",
    "\n",
    "# Compute user similarity\n",
    "user_sim = cosine_similarity(user_item_matrix)\n",
    "user_sim_df = pd.DataFrame(user_sim, index=user_item_matrix.index, columns=user_item_matrix.index)\n",
    "\n",
    "# Recommend movies for a target user based on similar users\n",
    "def recommend_movies(user, top_n=2):\n",
    "    similar_users = user_sim_df[user].sort_values(ascending=False)[1:]  # Exclude the user itself\n",
    "    recommended = {}\n",
    "    for other_user, score in similar_users.items():\n",
    "        for movie, rating in user_item_matrix.loc[other_user].items():\n",
    "            if rating > 0 and user_item_matrix.loc[user, movie] == 0:\n",
    "                recommended[movie] = recommended.get(movie, 0) + score * rating\n",
    "    recommended_movies = sorted(recommended.items(), key=lambda x: x[1], reverse=True)[:top_n]\n",
    "    return [movie for movie, _ in recommended_movies]\n",
    "\n",
    "# Test: Recommend movies for user 'Alice'\n",
    "print(\"\\nCollaborative Filtering Movie Recommendations for User Alice:\")\n",
    "print(recommend_movies('Alice'))\n"
   ]
  }
 ],
 "metadata": {
  "kernelspec": {
   "display_name": "Python 3 (ipykernel)",
   "language": "python",
   "name": "python3"
  },
  "language_info": {
   "codemirror_mode": {
    "name": "ipython",
    "version": 3
   },
   "file_extension": ".py",
   "mimetype": "text/x-python",
   "name": "python",
   "nbconvert_exporter": "python",
   "pygments_lexer": "ipython3",
   "version": "3.10.5"
  }
 },
 "nbformat": 4,
 "nbformat_minor": 5
}
