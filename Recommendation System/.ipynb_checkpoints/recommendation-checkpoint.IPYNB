{
 "cells": [
  {
   "cell_type": "code",
   "execution_count": 15,
   "id": "442ba6f2",
   "metadata": {},
   "outputs": [
    {
     "name": "stdout",
     "output_type": "stream",
     "text": [
      "Content-Based Book Recommendations for 'Web Development with JavaScript':\n",
      "['Database Design Fundamentals', 'Artificial Intelligence Applications']\n"
     ]
    }
   ],
   "source": [
    "from sklearn.feature_extraction.text import TfidfVectorizer\n",
    "from sklearn.metrics.pairwise import cosine_similarity\n",
    "import pandas as pd\n",
    "\n",
    "# Sample book dataset\n",
    "books = pd.DataFrame({\n",
    "    'book_id': [1, 2, 3, 4, 5],\n",
    "    'title': [\"Web Development with JavaScript\", \"Database Design Fundamentals\", \"Artificial Intelligence Applications\", \n",
    "              \"Mobile App Development\", \"Cybersecurity Essentials\"],\n",
    "    'description': [\n",
    "        \"Complete guide to modern web development using JavaScript frameworks\",\n",
    "        \"Comprehensive approach to designing efficient database systems\",\n",
    "        \"Practical applications of artificial intelligence in real world\",\n",
    "        \"Building mobile applications for Android and iOS platforms\",\n",
    "        \"Essential cybersecurity practices for protecting digital systems\"\n",
    "    ]\n",
    "})\n",
    "\n",
    "# Compute TF-IDF vectors of book descriptions\n",
    "tfidf = TfidfVectorizer()\n",
    "tfidf_matrix = tfidf.fit_transform(books['description'])\n",
    "\n",
    "# Compute cosine similarity between books\n",
    "cos_sim = cosine_similarity(tfidf_matrix, tfidf_matrix)\n",
    "\n",
    "# Function to recommend books based on a book_id\n",
    "def recommend_books(book_id, top_n=2):\n",
    "    idx = books.index[books['book_id'] == book_id][0]\n",
    "    sim_scores = list(enumerate(cos_sim[idx]))\n",
    "    sim_scores = sorted(sim_scores, key=lambda x: x[1], reverse=True)\n",
    "    sim_scores = sim_scores[1:top_n+1]  # Exclude the book itself\n",
    "    recommended_books = [books.iloc[i[0]]['title'] for i in sim_scores]\n",
    "    return recommended_books\n",
    "\n",
    "# Test: Recommend books similar to book_id 1\n",
    "print(\"Content-Based Book Recommendations for 'Web Development with JavaScript':\")\n",
    "print(recommend_books(1))\n"
   ]
  }
 ],
 "metadata": {
  "kernelspec": {
   "display_name": "Python 3 (ipykernel)",
   "language": "python",
   "name": "python3"
  },
  "language_info": {
   "codemirror_mode": {
    "name": "ipython",
    "version": 3
   },
   "file_extension": ".py",
   "mimetype": "text/x-python",
   "name": "python",
   "nbconvert_exporter": "python",
   "pygments_lexer": "ipython3",
   "version": "3.10.5"
  }
 },
 "nbformat": 4,
 "nbformat_minor": 5
}
