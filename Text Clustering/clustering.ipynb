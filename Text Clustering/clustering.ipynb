{
 "cells": [
  {
   "cell_type": "code",
   "execution_count": 11,
   "id": "9f522c34",
   "metadata": {},
   "outputs": [
    {
     "name": "stdout",
     "output_type": "stream",
     "text": [
      "Document 1: Cluster 0\n",
      "Document 2: Cluster 0\n",
      "Document 3: Cluster 1\n",
      "Document 4: Cluster 0\n",
      "Document 5: Cluster 1\n"
     ]
    }
   ],
   "source": [
    "from sklearn.feature_extraction.text import TfidfVectorizer\n",
    "from sklearn.cluster import KMeans\n",
    "\n",
    "# Sample documents\n",
    "documents = [\n",
    "    \"Python programming language is popular for data science projects.\",\n",
    "    \"Web development frameworks enable building responsive user interfaces.\",\n",
    "    \"Mobile applications provide convenient access to digital services.\",\n",
    "    \"Database management systems store and organize business information efficiently.\",\n",
    "    \"Software testing ensures applications work correctly before deployment.\"\n",
    "]\n",
    "\n",
    "# Convert text to TF-IDF vectors\n",
    "vectorizer = TfidfVectorizer()\n",
    "X = vectorizer.fit_transform(documents)\n",
    "\n",
    "# Apply K-Means\n",
    "k = 2  # Number of clusters\n",
    "kmeans = KMeans(n_clusters=k, random_state=42)\n",
    "kmeans.fit(X)\n",
    "\n",
    "# Output cluster assignments\n",
    "clusters = kmeans.labels_\n",
    "for idx, cluster in enumerate(clusters):\n",
    "    print(f\"Document {idx+1}: Cluster {cluster}\")\n"
   ]
  }
 ],
 "metadata": {
  "kernelspec": {
   "display_name": "Python 3 (ipykernel)",
   "language": "python",
   "name": "python3"
  },
  "language_info": {
   "codemirror_mode": {
    "name": "ipython",
    "version": 3
   },
   "file_extension": ".py",
   "mimetype": "text/x-python",
   "name": "python",
   "nbconvert_exporter": "python",
   "pygments_lexer": "ipython3",
   "version": "3.10.5"
  }
 },
 "nbformat": 4,
 "nbformat_minor": 5
}
