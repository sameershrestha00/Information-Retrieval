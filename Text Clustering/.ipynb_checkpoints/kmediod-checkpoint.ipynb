{
 "cells": [
  {
   "cell_type": "code",
   "execution_count": 13,
   "id": "28e7c68a",
   "metadata": {},
   "outputs": [
    {
     "name": "stdout",
     "output_type": "stream",
     "text": [
      "Collecting pyclustering\n",
      "  Downloading pyclustering-0.10.1.2.tar.gz (2.6 MB)\n",
      "     ---------------------------------------- 0.0/2.6 MB ? eta -:--:--\n",
      "     ---- ----------------------------------- 0.3/2.6 MB ? eta -:--:--\n",
      "     ------------------------------------ --- 2.4/2.6 MB 9.6 MB/s eta 0:00:01\n",
      "     ---------------------------------------- 2.6/2.6 MB 8.7 MB/s eta 0:00:00\n",
      "  Preparing metadata (setup.py): started\n",
      "  Preparing metadata (setup.py): finished with status 'done'\n",
      "Requirement already satisfied: scipy>=1.1.0 in c:\\users\\lenovo\\appdata\\local\\programs\\python\\python310\\lib\\site-packages (from pyclustering) (1.15.2)\n",
      "Requirement already satisfied: matplotlib>=3.0.0 in c:\\users\\lenovo\\appdata\\local\\programs\\python\\python310\\lib\\site-packages (from pyclustering) (3.9.0)\n",
      "Requirement already satisfied: numpy>=1.15.2 in c:\\users\\lenovo\\appdata\\local\\programs\\python\\python310\\lib\\site-packages (from pyclustering) (1.26.4)\n",
      "Requirement already satisfied: Pillow>=5.2.0 in c:\\users\\lenovo\\appdata\\local\\programs\\python\\python310\\lib\\site-packages (from pyclustering) (10.3.0)\n",
      "Requirement already satisfied: contourpy>=1.0.1 in c:\\users\\lenovo\\appdata\\local\\programs\\python\\python310\\lib\\site-packages (from matplotlib>=3.0.0->pyclustering) (1.2.1)\n",
      "Requirement already satisfied: cycler>=0.10 in c:\\users\\lenovo\\appdata\\local\\programs\\python\\python310\\lib\\site-packages (from matplotlib>=3.0.0->pyclustering) (0.12.1)\n",
      "Requirement already satisfied: fonttools>=4.22.0 in c:\\users\\lenovo\\appdata\\local\\programs\\python\\python310\\lib\\site-packages (from matplotlib>=3.0.0->pyclustering) (4.52.4)\n",
      "Requirement already satisfied: kiwisolver>=1.3.1 in c:\\users\\lenovo\\appdata\\local\\programs\\python\\python310\\lib\\site-packages (from matplotlib>=3.0.0->pyclustering) (1.4.5)\n",
      "Requirement already satisfied: packaging>=20.0 in c:\\users\\lenovo\\appdata\\local\\programs\\python\\python310\\lib\\site-packages (from matplotlib>=3.0.0->pyclustering) (24.0)\n",
      "Requirement already satisfied: pyparsing>=2.3.1 in c:\\users\\lenovo\\appdata\\local\\programs\\python\\python310\\lib\\site-packages (from matplotlib>=3.0.0->pyclustering) (3.1.2)\n",
      "Requirement already satisfied: python-dateutil>=2.7 in c:\\users\\lenovo\\appdata\\local\\programs\\python\\python310\\lib\\site-packages (from matplotlib>=3.0.0->pyclustering) (2.9.0.post0)\n",
      "Requirement already satisfied: six>=1.5 in c:\\users\\lenovo\\appdata\\local\\programs\\python\\python310\\lib\\site-packages (from python-dateutil>=2.7->matplotlib>=3.0.0->pyclustering) (1.16.0)\n",
      "Building wheels for collected packages: pyclustering\n",
      "  Building wheel for pyclustering (setup.py): started\n",
      "  Building wheel for pyclustering (setup.py): finished with status 'done'\n",
      "  Created wheel for pyclustering: filename=pyclustering-0.10.1.2-py3-none-any.whl size=2395133 sha256=a268b0aa21241c4ac97cf6c2273c1597b646f686ad180d781b28f0e410c30164\n",
      "  Stored in directory: c:\\users\\lenovo\\appdata\\local\\pip\\cache\\wheels\\b5\\42\\97\\11eee99f5c1e4fdfc170f0a54f9c9eb195df66edb4cf69f449\n",
      "Successfully built pyclustering\n",
      "Installing collected packages: pyclustering\n",
      "Successfully installed pyclustering-0.10.1.2\n"
     ]
    },
    {
     "name": "stderr",
     "output_type": "stream",
     "text": [
      "  DEPRECATION: Building 'pyclustering' using the legacy setup.py bdist_wheel mechanism, which will be removed in a future version. pip 25.3 will enforce this behaviour change. A possible replacement is to use the standardized build interface by setting the `--use-pep517` option, (possibly combined with `--no-build-isolation`), or adding a `pyproject.toml` file to the source tree of 'pyclustering'. Discussion can be found at https://github.com/pypa/pip/issues/6334\n",
      "\n",
      "[notice] A new release of pip is available: 25.1 -> 25.2\n",
      "[notice] To update, run: python.exe -m pip install --upgrade pip\n"
     ]
    }
   ],
   "source": [
    "! pip install pyclustering"
   ]
  },
  {
   "cell_type": "code",
   "execution_count": 14,
   "id": "0424bda1",
   "metadata": {},
   "outputs": [
    {
     "name": "stdout",
     "output_type": "stream",
     "text": [
      "Cluster 0: Documents [1, 4]\n",
      "Cluster 1: Documents [2, 3, 5]\n"
     ]
    }
   ],
   "source": [
    "from sklearn.feature_extraction.text import TfidfVectorizer\n",
    "from pyclustering.cluster.kmedoids import kmedoids\n",
    "from pyclustering.utils import distance_metric, type_metric\n",
    "import numpy as np\n",
    "\n",
    "documents = [\n",
    "    \"Python programming language is popular for data science projects.\",\n",
    "    \"Web development frameworks enable building responsive user interfaces.\",\n",
    "    \"Mobile applications provide convenient access to digital services.\",\n",
    "    \"Database management systems store and organize business information efficiently.\",\n",
    "    \"Software testing ensures applications work correctly before deployment.\"\n",
    "]\n",
    "# Convert documents to TF-IDF vectors\n",
    "vectorizer = TfidfVectorizer()\n",
    "X = vectorizer.fit_transform(documents).toarray()\n",
    "\n",
    "# Initial medoids (choose first k points as initial medoids)\n",
    "initial_medoids = [0, 4]  # example for k=2\n",
    "\n",
    "# Use cosine distance\n",
    "metric = distance_metric(type_metric.EUCLIDEAN)\n",
    "\n",
    "# Run K-Medoids\n",
    "kmedoids_instance = kmedoids(X, initial_medoids, metric=metric)\n",
    "kmedoids_instance.process()\n",
    "clusters = kmedoids_instance.get_clusters()\n",
    "\n",
    "# Output clusters\n",
    "for i, cluster in enumerate(clusters):\n",
    "    print(f\"Cluster {i}: Documents {[idx+1 for idx in cluster]}\")"
   ]
  }
 ],
 "metadata": {
  "kernelspec": {
   "display_name": "Python 3 (ipykernel)",
   "language": "python",
   "name": "python3"
  },
  "language_info": {
   "codemirror_mode": {
    "name": "ipython",
    "version": 3
   },
   "file_extension": ".py",
   "mimetype": "text/x-python",
   "name": "python",
   "nbconvert_exporter": "python",
   "pygments_lexer": "ipython3",
   "version": "3.10.5"
  }
 },
 "nbformat": 4,
 "nbformat_minor": 5
}
