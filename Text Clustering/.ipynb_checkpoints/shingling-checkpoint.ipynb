{
 "cells": [
  {
   "cell_type": "code",
   "execution_count": 12,
   "id": "deaa2820",
   "metadata": {},
   "outputs": [
    {
     "name": "stdout",
     "output_type": "stream",
     "text": [
      "Shingles of Document 1: {'machine learning', 'learning algorithms', 'process large', 'algorithms process', 'large datasets', 'datasets efficiently'}\n",
      "Shingles of Document 2: {'learning models', 'deep learning', 'big data', 'data with', 'with high', 'models analyze', 'analyze big', 'high accuracy'}\n",
      "Jaccard Similarity: 0.0\n"
     ]
    }
   ],
   "source": [
    "from nltk import ngrams\n",
    "\n",
    "def get_shingles(text, k=3):\n",
    "    \"\"\"\n",
    "    Returns a set of k-shingles (k consecutive words) from the text.\n",
    "    \"\"\"\n",
    "    tokens = text.lower().split()\n",
    "    return set([' '.join(gram) for gram in ngrams(tokens, k)])\n",
    "\n",
    "# Example\n",
    "doc1 = \"Machine learning algorithms process large datasets efficiently\"\n",
    "doc2 = \"Deep learning models analyze big data with high accuracy\"\n",
    "\n",
    "shingles1 = get_shingles(doc1, k=2)\n",
    "shingles2 = get_shingles(doc2, k=2)\n",
    "\n",
    "print(\"Shingles of Document 1:\", shingles1)\n",
    "print(\"Shingles of Document 2:\", shingles2)\n",
    "\n",
    "# Jaccard similarity between shingles\n",
    "jaccard_sim = len(shingles1 & shingles2) / len(shingles1 | shingles2)\n",
    "print(\"Jaccard Similarity:\", jaccard_sim)"
   ]
  }
 ],
 "metadata": {
  "kernelspec": {
   "display_name": "Python 3 (ipykernel)",
   "language": "python",
   "name": "python3"
  },
  "language_info": {
   "codemirror_mode": {
    "name": "ipython",
    "version": 3
   },
   "file_extension": ".py",
   "mimetype": "text/x-python",
   "name": "python",
   "nbconvert_exporter": "python",
   "pygments_lexer": "ipython3",
   "version": "3.10.5"
  }
 },
 "nbformat": 4,
 "nbformat_minor": 5
}
